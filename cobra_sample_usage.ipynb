{
 "cells": [
  {
   "cell_type": "markdown",
   "metadata": {},
   "source": [
    "## Install\n"
   ]
  },
  {
   "cell_type": "markdown",
   "metadata": {},
   "source": [
    "Clone this repo.\n",
    "\n",
    "- In a command line or shell, navigate to the cloned repo.\n",
    "- `pip install -e ./cobrapy`\n"
   ]
  },
  {
   "cell_type": "code",
   "execution_count": null,
   "metadata": {},
   "outputs": [],
   "source": [
    "%pip install -e ../."
   ]
  },
  {
   "cell_type": "markdown",
   "metadata": {},
   "source": [
    "## Standard Example\n"
   ]
  },
  {
   "cell_type": "markdown",
   "metadata": {},
   "source": [
    "### Step #0 - Load Environment Variables\n"
   ]
  },
  {
   "cell_type": "markdown",
   "metadata": {},
   "source": [
    "This utility depends on connections to outside services. You will neeed to make sure the following environment variables are set.\n",
    "\n",
    "```\n",
    "AZURE_OPENAI_GPT4_VISION_API_KEY=\"\"\n",
    "AZURE_OPENAI_GPT4_VISION_ENDPOINT=\"\"\n",
    "AZURE_OPENAI_GPT4_VISION_API_VERSION=\"2024-06-01\"\n",
    "AZURE_OPENAI_GPT4_VISION_DEPLOYMENT=\"\"\n",
    "\n",
    "\n",
    "AZURE_OPENAI_WHISPER_API_KEY=\"\"\n",
    "AZURE_OPENAI_WHISPER_ENDPOINT=\"\"\n",
    "AZURE_OPENAI_WHISPER_API_VERSION=\"2024-06-01\"\n",
    "AZURE_OPENAI_WHISPER_DEPLOYMENT=\"\"\n",
    "AZURE_OPENAI_WHISPER_DEPLOYMENT=\"whisper-001\"\n",
    "```\n",
    "\n",
    "One way to do this is to create a `.env` file and use a utility such as python-dotenv to load it. You can copy or rename the `sample.env` file and fill it with your own values.\n"
   ]
  },
  {
   "cell_type": "markdown",
   "metadata": {},
   "source": [
    "### Step #1 - Create a VideoClient object\n"
   ]
  },
  {
   "cell_type": "code",
   "execution_count": null,
   "metadata": {},
   "outputs": [],
   "source": [
    "import sys\n",
    "from pathlib import Path\n",
    "\n",
    "sys.path.append(str(Path.cwd()))\n",
    "\n",
    "from cobrapy import VideoClient\n",
    "\n",
    "client = VideoClient(video_path=\"path/to/your/video.mp4\")\n",
    "client.manifest.model_dump()"
   ]
  },
  {
   "cell_type": "markdown",
   "metadata": {},
   "source": [
    "### Step #2 - Preprocess Video\n"
   ]
  },
  {
   "cell_type": "code",
   "execution_count": null,
   "metadata": {},
   "outputs": [],
   "source": [
    "# client.preprocess_video(overwrite_output=True)\n",
    "# client.manifest.model_dump()\n",
    "client.preprocess_video(\n",
    "    # output_directory=\"./output_dir\",  # control where to save the manifest and other files\n",
    "    segment_length=10,  # how long should each segment be in seconds\n",
    "    fps=1,  # how many frames per second to sample from the video (i.e. 1 = 1 frame per second, 1/3 = 1 frame per 3 seconds)\n",
    "    max_workers=5,  # how many threads to use for processing. Default is to use number of cores minus 1.\n",
    "    allow_partial_segments=True,  # if False, the last segment will be discarded if it is shorter than segment_length\n",
    "    overwrite_output=True,  # any files in a directory with the same name will be overwritten\n",
    ")"
   ]
  },
  {
   "cell_type": "markdown",
   "metadata": {},
   "source": [
    "### Step #3 - Run an Analysis\n"
   ]
  },
  {
   "cell_type": "code",
   "execution_count": null,
   "metadata": {},
   "outputs": [],
   "source": [
    "from cobrapy.analysis import BasicSummary, ActionSummary\n",
    "\n",
    "action_config = ActionSummary()\n",
    "# action_config.system_prompt_lens=\"Your lens here\"\n",
    "# action_config.results_template=[{{\"start_timestamp\":\"0s\",\"end_timestamp\":\"10s\",\"actions\":\"Your action here\",\"summary\":\"description\"}}]\n",
    "action_summary = client.analyze_video(\n",
    "    analysis_config=action_config, run_async=True, max_concurrent_tasks=10\n",
    ")\n",
    "action_summary"
   ]
  },
  {
   "cell_type": "markdown",
   "metadata": {},
   "source": [
    "## Configurability\n"
   ]
  },
  {
   "cell_type": "markdown",
   "metadata": {},
   "source": [
    "### Load client from existing manifest\n"
   ]
  },
  {
   "cell_type": "code",
   "execution_count": null,
   "metadata": {},
   "outputs": [],
   "source": [
    "from cobrapy import VideoClient\n",
    "\n",
    "client = VideoClient(manifest=\"./path_to_your_video/_video_manifest.json\")"
   ]
  },
  {
   "cell_type": "markdown",
   "metadata": {},
   "source": [
    "### Pre-process video with custom parameters\n"
   ]
  },
  {
   "cell_type": "code",
   "execution_count": null,
   "metadata": {},
   "outputs": [],
   "source": [
    "client.preprocess_video(\n",
    "    output_directory=\"./output_dir\",  # control where to save the manifest and other files\n",
    "    segment_length=20,  # how long should each segment be in seconds\n",
    "    fps=1,  # how many frames per second to sample from the video (i.e. 1 = 1 frame per second, 1/3 = 1 frame per 3 seconds)\n",
    "    max_workers=10,  # how many threads to use for processing. Default is to use number of cores minus 1.\n",
    "    allow_partial_segments=True,  # if False, the last segment will be discarded if it is shorter than segment_length\n",
    "    overwrite_output=True,  # any files in a directory with the same name will be overwritten\n",
    ")"
   ]
  },
  {
   "cell_type": "markdown",
   "metadata": {},
   "source": [
    "### Parallel Analysis\n",
    "\n",
    "Analyses that have the analysis_sequence value of \"mapreduce\" can be run in parallel using async patterns. Throughput and parrallelism will be constrained by the rate limits of your LLM endpoint.\n"
   ]
  },
  {
   "cell_type": "code",
   "execution_count": null,
   "metadata": {},
   "outputs": [],
   "source": [
    "from cobrapy.analysis import BasicSummary\n",
    "\n",
    "basic_config = BasicSummary()\n",
    "\n",
    "basic_summary = client.analyze_video(basic_config, run_async=True)"
   ]
  },
  {
   "cell_type": "markdown",
   "metadata": {},
   "source": [
    "### Customizing an existing analysis configuration\n"
   ]
  },
  {
   "cell_type": "code",
   "execution_count": null,
   "metadata": {},
   "outputs": [],
   "source": [
    "from cobrapy.analysis import BasicSummary\n",
    "\n",
    "# Load the default configuration\n",
    "customizable_config = BasicSummary()\n",
    "\n",
    "# Output the config values\n",
    "customizable_config.model_dump()"
   ]
  },
  {
   "cell_type": "code",
   "execution_count": null,
   "metadata": {},
   "outputs": [],
   "source": [
    "# Customize the configuration\n",
    "customizable_config.lens_prompt = \"Analyze the video from the perspective of a wildlife documentarian. Describe any behaviors -- whether from animals, humans or anything else as though you are preparing for a Discovery Channel documentary. In addition to the normal summary, provide a draft script of a narration for the video.\"\n",
    "\n",
    "customizable_config.results_template = {\n",
    "    \"segment_summary\": \"Text summary of what is happening in the clip segment.\",\n",
    "    \"narration\": \"Draft narration script for the segment. In the style of Morgan Freeman or David Attenborough.\",\n",
    "}\n",
    "\n",
    "customizable_config.run_final_summary = True\n",
    "\n",
    "customizable_config.summary_prompt = \"This video is from a comedy prank television show. Your job is to summarize the video based on the provided segment summaries. Explain the joke. Your summary should 2-3 sentences max.\""
   ]
  },
  {
   "cell_type": "code",
   "execution_count": null,
   "metadata": {},
   "outputs": [],
   "source": [
    "documentary_summary = client.analyze_video(customizable_config, run_async=True)\n",
    "documentary_summary"
   ]
  },
  {
   "cell_type": "code",
   "execution_count": null,
   "metadata": {},
   "outputs": [],
   "source": [
    "from pprint import pprint\n",
    "\n",
    "pprint(client.manifest.final_summary)"
   ]
  },
  {
   "cell_type": "markdown",
   "metadata": {},
   "source": [
    "### Running a sequential / refine analysis\n"
   ]
  },
  {
   "cell_type": "code",
   "execution_count": null,
   "metadata": {},
   "outputs": [],
   "source": [
    "from cobrapy import VideoClient\n",
    "\n",
    "client = VideoClient(video_path=\"C:\\\\videos\\\\PCL2.mp4\")\n",
    "\n",
    "manifest = client.preprocess_video(\n",
    "    segment_length=30,\n",
    "    fps=0.33,\n",
    "    overwrite_output=True,\n",
    ")"
   ]
  },
  {
   "cell_type": "code",
   "execution_count": null,
   "metadata": {},
   "outputs": [],
   "source": [
    "from cobrapy.analysis.chapter_summary import ChapterAnalysis\n",
    "\n",
    "chapter_config = ChapterAnalysis()\n",
    "chapter_summary = client.analyze_video(chapter_config)"
   ]
  }
 ],
 "metadata": {
  "kernelspec": {
   "display_name": ".venv",
   "language": "python",
   "name": "python3"
  },
  "language_info": {
   "codemirror_mode": {
    "name": "ipython",
    "version": 3
   },
   "file_extension": ".py",
   "mimetype": "text/x-python",
   "name": "python",
   "nbconvert_exporter": "python",
   "pygments_lexer": "ipython3",
   "version": "3.11.9"
  }
 },
 "nbformat": 4,
 "nbformat_minor": 2
}
